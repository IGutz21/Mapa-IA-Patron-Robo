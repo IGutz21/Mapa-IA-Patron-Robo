{
 "cells": [
  {
   "cell_type": "code",
   "execution_count": 8,
   "metadata": {},
   "outputs": [
    {
     "name": "stdout",
     "output_type": "stream",
     "text": [
      "HTTP Error 429: Too Many Requests\n",
      "HTTP Error 429: Too Many Requests\n",
      "HTTP Error 429: Too Many Requests\n",
      "HTTP Error 429: Too Many Requests\n",
      "HTTP Error 429: Too Many Requests\n",
      "HTTP Error 429: Too Many Requests\n",
      "HTTP Error 429: Too Many Requests\n",
      "HTTP Error 429: Too Many Requests\n",
      "HTTP Error 429: Too Many Requests\n",
      "HTTP Error 429: Too Many Requests\n",
      "HTTP Error 429: Too Many Requests\n",
      "HTTP Error 429: Too Many Requests\n",
      "HTTP Error 429: Too Many Requests\n",
      "HTTP Error 429: Too Many Requests\n",
      "HTTP Error 429: Too Many Requests\n",
      "HTTP Error 429: Too Many Requests\n",
      "HTTP Error 429: Too Many Requests\n",
      "HTTP Error 429: Too Many Requests\n",
      "HTTP Error 429: Too Many Requests\n",
      "HTTP Error 429: Too Many Requests\n",
      "HTTP Error 429: Too Many Requests\n",
      "Ica: 0\n",
      "Chincha: 0\n",
      "Pisco: 0\n",
      "Nazca: 0\n",
      "Palpa: 0\n",
      "Marcona: 0\n",
      "San Clemente: 0\n",
      "Tate: 0\n",
      "Yauca del Rosario: 0\n",
      "Los Aquijes: 0\n",
      "Ocucaje: 0\n",
      "Pachacutec: 0\n",
      "Parcona: 0\n",
      "Salas: 0\n",
      "San Juan Bautista: 0\n",
      "Santiago: 0\n",
      "Subtanjalla: 0\n",
      "Tupac Amaru Inca: 0\n",
      "La Tinguiña: 0\n",
      "Los Molinos: 0\n"
     ]
    }
   ],
   "source": [
    "from datetime import datetime, timedelta\n",
    "from GoogleNews import GoogleNews\n",
    "\n",
    "# Fecha de inicio y fin\n",
    "start = (datetime.now() - timedelta(days=7)).strftime(\"%m/%d/%Y\")\n",
    "end = datetime.now().strftime(\"%m/%d/%Y\")\n",
    "\n",
    "\n",
    "# Objeto de google news (noticias de google)\n",
    "googlenews = GoogleNews(lang='es', start=start, end=end)\n",
    "\n",
    "\n",
    "# Lista distritos\n",
    "\n",
    "distritos_ica = ['Ica', 'Chincha', 'Pisco', 'Nazca', 'Palpa', 'Marcona', 'San Clemente', 'Tate', 'Yauca del Rosario', 'Los Aquijes', 'Ocucaje', 'Pachacutec', 'Parcona', 'Salas', 'San Juan Bautista', 'Santiago', 'Subtanjalla', 'Tupac Amaru Inca', 'La Tinguiña', 'Los Molinos', 'Ocucaje']\n",
    "\n",
    "\n",
    "# Diccionario de datos\n",
    "\n",
    "index_robos = {}\n",
    "\n",
    "\n",
    "# Noticias de robos para cada distrito\n",
    "\n",
    "for distrito in distritos_ica:\n",
    "\n",
    "    googlenews.search(f'robos {distrito} Perú')\n",
    "\n",
    "    results = googlenews.result()\n",
    "\n",
    "    index_robos[distrito] = len(results)\n",
    "\n",
    "\n",
    "# Mostrar el resultado\n",
    "\n",
    "for distrito, num_robos in index_robos.items():\n",
    "\n",
    "    print(f'{distrito}: {index_robos[distrito]}')"
   ]
  },
  {
   "cell_type": "code",
   "execution_count": null,
   "metadata": {},
   "outputs": [],
   "source": []
  }
 ],
 "metadata": {
  "kernelspec": {
   "display_name": "Python 3",
   "language": "python",
   "name": "python3"
  },
  "language_info": {
   "codemirror_mode": {
    "name": "ipython",
    "version": 3
   },
   "file_extension": ".py",
   "mimetype": "text/x-python",
   "name": "python",
   "nbconvert_exporter": "python",
   "pygments_lexer": "ipython3",
   "version": "3.12.3"
  }
 },
 "nbformat": 4,
 "nbformat_minor": 2
}
