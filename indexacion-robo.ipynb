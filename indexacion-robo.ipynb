{
 "cells": [
  {
   "cell_type": "code",
   "execution_count": 8,
   "metadata": {},
   "outputs": [
    {
     "name": "stdout",
     "output_type": "stream",
     "text": [
      "ICA: 1.16%\n",
      "LA TINGUIÑA: 2.31%\n",
      "LOS AQUIJES: 2.89%\n",
      "OCUCAJE: 3.59%\n",
      "PACHACUTEC: 4.51%\n",
      "PARCONA: 5.67%\n",
      "PUEBLO NUEVO: 6.83%\n",
      "SALAS: 7.99%\n",
      "SAN JOSÉ DE LOS MOLINOS: 8.33%\n",
      "SAN JUAN BAUTISTA: 9.38%\n",
      "SANTIAGO: 10.53%\n",
      "SUBTANJALLA: 11.69%\n",
      "TATE: 12.27%\n",
      "YAUCA DEL ROSARIO: 12.85%\n"
     ]
    }
   ],
   "source": [
    "from datetime import datetime, timedelta\n",
    "from GoogleNews import GoogleNews\n",
    "from sklearn.preprocessing import MinMaxScaler\n",
    "import pandas as pd\n",
    "\n",
    "# Fecha de inicio y fin\n",
    "start = (datetime.now() - timedelta(days=7)).strftime(\"%m/%d/%Y\")\n",
    "end = datetime.now().strftime(\"%m/%d/%Y\")\n",
    "\n",
    "# Objeto de google news (noticias de google)\n",
    "googlenews = GoogleNews(lang='es', start=start, end=end)\n",
    "\n",
    "distritos_ica = [\n",
    "    'Ica',\n",
    "    'La Tinguiña',\n",
    "    'Los Aquijes',\n",
    "    'Ocucaje',\n",
    "    'Pachacutec',\n",
    "    'Parcona',\n",
    "    'Pueblo Nuevo',\n",
    "    'Salas',\n",
    "    'San José de Los Molinos',\n",
    "    'San Juan Bautista',\n",
    "    'Santiago',\n",
    "    'Subtanjalla',\n",
    "    'Tate',\n",
    "    'Yauca del Rosario'\n",
    "]\n",
    "\n",
    "index_robos = {}\n",
    "\n",
    "for distrito in distritos_ica:\n",
    "    googlenews.search(f'robos {distrito} Perú')\n",
    "    results = googlenews.result()\n",
    "    index_robos[distrito.upper()] = len(results)\n",
    "\n",
    "# Calcula el total de robos\n",
    "total_robos = sum(index_robos.values())\n",
    "\n",
    "# Calcula el porcentaje de robos por distrito\n",
    "for distrito in index_robos:\n",
    "    index_robos[distrito] = round((index_robos[distrito] / total_robos) * 100, 2)\n",
    "\n",
    "df = pd.DataFrame(\n",
    "    list(index_robos.items()), columns=[\"Distrito\", \"Robo\"]\n",
    ")\n",
    "\n",
    "# Leer el archivo CSV existente\n",
    "df_existing = pd.read_csv(\"./data/ica_robo.csv\")\n",
    "\n",
    "# Establecer 'Distrito' como el índice en ambos DataFrames para el método update\n",
    "df.set_index(\"Distrito\", inplace=True)\n",
    "df_existing.set_index(\"Distrito\", inplace=True)\n",
    "\n",
    "# Actualizar los valores en df_existing con los de df\n",
    "df_existing.update(df)\n",
    "\n",
    "# Restablecer el índice\n",
    "df_existing.reset_index(inplace=True)\n",
    "\n",
    "# Guardar el DataFrame actualizado en el archivo CSV\n",
    "df_existing.to_csv(\"./data/ica_robo.csv\", index=False)\n",
    "\n",
    "for distrito, porcentaje in index_robos.items():\n",
    "    print(f\"{distrito}: {porcentaje}%\")"
   ]
  }
 ],
 "metadata": {
  "kernelspec": {
   "display_name": "Python 3",
   "language": "python",
   "name": "python3"
  },
  "language_info": {
   "codemirror_mode": {
    "name": "ipython",
    "version": 3
   },
   "file_extension": ".py",
   "mimetype": "text/x-python",
   "name": "python",
   "nbconvert_exporter": "python",
   "pygments_lexer": "ipython3",
   "version": "3.12.3"
  }
 },
 "nbformat": 4,
 "nbformat_minor": 2
}
