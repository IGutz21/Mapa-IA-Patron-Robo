{
 "cells": [
  {
   "cell_type": "code",
   "execution_count": 2,
   "metadata": {},
   "outputs": [
    {
     "ename": "ModuleNotFoundError",
     "evalue": "No module named 'folium'",
     "output_type": "error",
     "traceback": [
      "\u001b[1;31m---------------------------------------------------------------------------\u001b[0m",
      "\u001b[1;31mModuleNotFoundError\u001b[0m                       Traceback (most recent call last)",
      "Cell \u001b[1;32mIn[2], line 1\u001b[0m\n\u001b[1;32m----> 1\u001b[0m \u001b[38;5;28;01mimport\u001b[39;00m \u001b[38;5;21;01mfolium\u001b[39;00m\n\u001b[0;32m      2\u001b[0m \u001b[38;5;28;01mfrom\u001b[39;00m \u001b[38;5;21;01mfolium\u001b[39;00m\u001b[38;5;21;01m.\u001b[39;00m\u001b[38;5;21;01mplugins\u001b[39;00m \u001b[38;5;28;01mimport\u001b[39;00m HeatMap\n\u001b[0;32m      3\u001b[0m \u001b[38;5;28;01mimport\u001b[39;00m \u001b[38;5;21;01mgeopandas\u001b[39;00m \u001b[38;5;28;01mas\u001b[39;00m \u001b[38;5;21;01mgpd\u001b[39;00m\n",
      "\u001b[1;31mModuleNotFoundError\u001b[0m: No module named 'folium'"
     ]
    }
   ],
   "source": [
    "import folium\n",
    "from folium.plugins import HeatMap\n",
    "import geopandas as gpd\n",
    "import pandas as pd\n",
    "import branca.colormap as cm\n",
    "import json\n",
    "\n",
    "mapa = folium.Map(location=[-14.0946, -75.7139], zoom_start=10)\n",
    "\n",
    "# Cargar datos de robo\n",
    "data_csv = pd.read_csv(\"./data/ica_robo.csv\")\n",
    "\n",
    "# Normalizar los datos de robo al rango 0-100\n",
    "data_csv[\"Robo\"] = round((data_csv[\"Robo\"] / data_csv[\"Robo\"].max()) * 100, 2)\n",
    "\n",
    "dict_data = data_csv.set_index(\"Distrito\")[\"Robo\"]\n",
    "\n",
    "# GeoJson\n",
    "ruta_geojson = \"data/distritos-peru.geojson\"\n",
    "with open(ruta_geojson, \"r\") as archivo_geojson:\n",
    "    geojson_data = json.load(archivo_geojson)\n",
    "\n",
    "# Lista de distritos de la provincia de Ica\n",
    "distritos_ica = data_csv[\"Distrito\"].tolist()\n",
    "\n",
    "# Filtrando los de la provincia de Ica\n",
    "filtered_features = []\n",
    "for feature in geojson_data[\"features\"]:\n",
    "    if feature[\"properties\"][\"nombprov\"] == \"ICA\" and feature[\"properties\"][\"nombdist\"] in distritos_ica:\n",
    "        filtered_features.append(feature)\n",
    "\n",
    "geojson_data[\"features\"] = filtered_features\n",
    "\n",
    "colormap = cm.LinearColormap(\n",
    "    [\n",
    "        \"green\",\n",
    "        \"yellow\",\n",
    "        \"orange\",\n",
    "        \"red\",\n",
    "    ],\n",
    "    vmin=0,\n",
    "    vmax=100,\n",
    ")\n",
    "colormap.caption = \"Porcentaje de robo (%)\"\n",
    "\n",
    "# Agregar datos de robo a las propiedades del GeoJSON\n",
    "for feature in geojson_data[\"features\"]:\n",
    "    district = feature[\"properties\"][\"nombdist\"]\n",
    "    feature[\"properties\"][\"Robo\"] = dict_data[district]\n",
    "\n",
    "\n",
    "# Definir la función de estilo\n",
    "def style_function(feature):\n",
    "    robbery_rate = feature[\"properties\"][\"Robo\"]\n",
    "    return {\n",
    "        \"fillColor\": colormap(robbery_rate),\n",
    "        \"color\": \"black\",\n",
    "        \"weight\": 2,\n",
    "        \"fillOpacity\": 0.7,\n",
    "    }\n",
    "\n",
    "\n",
    "# Agregar GeoJson al mapa con el tooltip personalizado\n",
    "folium.GeoJson(\n",
    "    geojson_data,\n",
    "    style_function=style_function,\n",
    "    tooltip=folium.GeoJsonTooltip(\n",
    "        fields=[\"nombdist\", \"Robo\"],\n",
    "        aliases=[\"Distrito\", \"Porcentaje de robo\"],\n",
    "        labels=True,\n",
    "        sticky=True,\n",
    "    ),\n",
    ").add_to(mapa)\n",
    "\n",
    "mapa.add_child(colormap)\n",
    "mapa"
   ]
  },
  {
   "cell_type": "code",
   "execution_count": null,
   "metadata": {},
   "outputs": [],
   "source": []
  }
 ],
 "metadata": {
  "kernelspec": {
   "display_name": "Python 3",
   "language": "python",
   "name": "python3"
  },
  "language_info": {
   "codemirror_mode": {
    "name": "ipython",
    "version": 3
   },
   "file_extension": ".py",
   "mimetype": "text/x-python",
   "name": "python",
   "nbconvert_exporter": "python",
   "pygments_lexer": "ipython3",
   "version": "3.12.4"
  }
 },
 "nbformat": 4,
 "nbformat_minor": 2
}
